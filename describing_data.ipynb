{
  "nbformat": 4,
  "nbformat_minor": 0,
  "metadata": {
    "kernelspec": {
      "display_name": "Python 3",
      "language": "python",
      "name": "python3"
    },
    "language_info": {
      "codemirror_mode": {
        "name": "ipython",
        "version": 3
      },
      "file_extension": ".py",
      "mimetype": "text/x-python",
      "name": "python",
      "nbconvert_exporter": "python",
      "pygments_lexer": "ipython3",
      "version": "3.9.2"
    },
    "colab": {
      "name": "describing-data.ipynb",
      "provenance": [],
      "collapsed_sections": [],
      "include_colab_link": true
    }
  },
  "cells": [
    {
      "cell_type": "markdown",
      "metadata": {
        "id": "view-in-github",
        "colab_type": "text"
      },
      "source": [
        "<a href=\"https://colab.research.google.com/github/lauraAgatha/Data-Analytics/blob/main/describing_data.ipynb\" target=\"_parent\"><img src=\"https://colab.research.google.com/assets/colab-badge.svg\" alt=\"Open In Colab\"/></a>"
      ]
    },
    {
      "cell_type": "markdown",
      "metadata": {
        "id": "1RUVORq9LsyG"
      },
      "source": [
        "<img src=\"https://static.wincacademy.nl/logos/main-logo.png\" height=200px style=\"height: 200px\"/>\n",
        "\n",
        "# Describing Data"
      ]
    },
    {
      "cell_type": "code",
      "metadata": {
        "id": "7ovSmAR6LsyL"
      },
      "source": [
        "!pip install matplotlib --user > /dev/null 2>&1\n",
        "!pip install numpy --user > /dev/null 2>&1\n",
        "!pip install pandas --user > /dev/null 2>&1\n",
        "\n",
        "%matplotlib inline\n",
        "import numpy as np\n",
        "import matplotlib.pyplot as plt\n",
        "import pandas as pd"
      ],
      "execution_count": 1,
      "outputs": []
    },
    {
      "cell_type": "markdown",
      "metadata": {
        "id": "-RolTAVZLsyM"
      },
      "source": [
        "Describing a dataset is surprisingly hard. Take this (simulated) data containing total income in 1980 for each of the 100.000 inhabitans of Fooville, for example."
      ]
    },
    {
      "cell_type": "code",
      "metadata": {
        "colab": {
          "base_uri": "https://localhost:8080/",
          "height": 419
        },
        "id": "mniIcqOhLsyM",
        "outputId": "d6ad6b59-1e9c-411f-df32-53667d5766b1"
      },
      "source": [
        "income_samples = np.round(np.hstack([np.random.normal(2.5e4, 5e3, int(7e4)),\n",
        "                                     np.random.normal(5.5e4, 4e3, int(2e4)),\n",
        "                                     np.random.normal(9e4, 2e3, int(1e4))]),\n",
        "                          2)\n",
        "income_samples[income_samples < 0] = - income_samples[income_samples < 0]\n",
        "np.random.shuffle(income_samples)\n",
        "\n",
        "pd.DataFrame(income_samples, columns=['Income'])"
      ],
      "execution_count": 2,
      "outputs": [
        {
          "output_type": "execute_result",
          "data": {
            "text/html": [
              "<div>\n",
              "<style scoped>\n",
              "    .dataframe tbody tr th:only-of-type {\n",
              "        vertical-align: middle;\n",
              "    }\n",
              "\n",
              "    .dataframe tbody tr th {\n",
              "        vertical-align: top;\n",
              "    }\n",
              "\n",
              "    .dataframe thead th {\n",
              "        text-align: right;\n",
              "    }\n",
              "</style>\n",
              "<table border=\"1\" class=\"dataframe\">\n",
              "  <thead>\n",
              "    <tr style=\"text-align: right;\">\n",
              "      <th></th>\n",
              "      <th>Income</th>\n",
              "    </tr>\n",
              "  </thead>\n",
              "  <tbody>\n",
              "    <tr>\n",
              "      <th>0</th>\n",
              "      <td>14610.63</td>\n",
              "    </tr>\n",
              "    <tr>\n",
              "      <th>1</th>\n",
              "      <td>50861.99</td>\n",
              "    </tr>\n",
              "    <tr>\n",
              "      <th>2</th>\n",
              "      <td>47883.26</td>\n",
              "    </tr>\n",
              "    <tr>\n",
              "      <th>3</th>\n",
              "      <td>22172.78</td>\n",
              "    </tr>\n",
              "    <tr>\n",
              "      <th>4</th>\n",
              "      <td>93842.82</td>\n",
              "    </tr>\n",
              "    <tr>\n",
              "      <th>...</th>\n",
              "      <td>...</td>\n",
              "    </tr>\n",
              "    <tr>\n",
              "      <th>99995</th>\n",
              "      <td>30363.67</td>\n",
              "    </tr>\n",
              "    <tr>\n",
              "      <th>99996</th>\n",
              "      <td>25380.26</td>\n",
              "    </tr>\n",
              "    <tr>\n",
              "      <th>99997</th>\n",
              "      <td>30735.89</td>\n",
              "    </tr>\n",
              "    <tr>\n",
              "      <th>99998</th>\n",
              "      <td>93279.09</td>\n",
              "    </tr>\n",
              "    <tr>\n",
              "      <th>99999</th>\n",
              "      <td>24924.89</td>\n",
              "    </tr>\n",
              "  </tbody>\n",
              "</table>\n",
              "<p>100000 rows × 1 columns</p>\n",
              "</div>"
            ],
            "text/plain": [
              "         Income\n",
              "0      14610.63\n",
              "1      50861.99\n",
              "2      47883.26\n",
              "3      22172.78\n",
              "4      93842.82\n",
              "...         ...\n",
              "99995  30363.67\n",
              "99996  25380.26\n",
              "99997  30735.89\n",
              "99998  93279.09\n",
              "99999  24924.89\n",
              "\n",
              "[100000 rows x 1 columns]"
            ]
          },
          "metadata": {
            "tags": []
          },
          "execution_count": 2
        }
      ]
    },
    {
      "cell_type": "markdown",
      "metadata": {
        "id": "Zz0puW-uLsyN"
      },
      "source": [
        "These are 100k datapoints. It's impossible to look at them all one by one. How are we going to interpret that large bag of unsorted data?\n",
        "\n",
        "## Mean\n",
        "\n",
        "One measure we should take a look at is the average, the **mean** of the data. The mean is calculated like so:\n",
        "\n",
        "1. Sum up all the values\n",
        "2. Divide them by the number of datapoints\n",
        "\n",
        "Let's apply this to our data from the inhabitants of Fooville."
      ]
    },
    {
      "cell_type": "code",
      "metadata": {
        "colab": {
          "base_uri": "https://localhost:8080/"
        },
        "id": "gO3MsGghLsyO",
        "outputId": "b9e22e86-55e4-45b4-b397-dbd94a7c6fec"
      },
      "source": [
        "income_samples_mean = np.mean(income_samples)\n",
        "print(f'The mean income in Fooville is {income_samples_mean:.2f}')"
      ],
      "execution_count": 3,
      "outputs": [
        {
          "output_type": "stream",
          "text": [
            "The mean income in Fooville is 37481.67\n"
          ],
          "name": "stdout"
        }
      ]
    },
    {
      "cell_type": "markdown",
      "metadata": {
        "id": "iSeu342YLsyO"
      },
      "source": [
        "**1. What is the mean of this list of numbers? [1, 9, 19, 100]**\n",
        "\n",
        "*TODO: Your answer here.*"
      ]
    },
    {
      "cell_type": "code",
      "metadata": {
        "colab": {
          "base_uri": "https://localhost:8080/"
        },
        "id": "Al7_xOa1MxBl",
        "outputId": "7fb4061f-1ce3-4036-a8f7-4375dc5458ea"
      },
      "source": [
        "numbers = [1,9,19,100]\n",
        "numbers_mean = np.mean(numbers)\n",
        "print('The mean of this list of numbers is: ', numbers_mean)"
      ],
      "execution_count": 4,
      "outputs": [
        {
          "output_type": "stream",
          "text": [
            "The mean of this list of numbers is:  32.25\n"
          ],
          "name": "stdout"
        }
      ]
    },
    {
      "cell_type": "markdown",
      "metadata": {
        "id": "A-BfP3GdLsyO"
      },
      "source": [
        "You, like me, might now be tempted to believe the data looks something like this."
      ]
    },
    {
      "cell_type": "code",
      "metadata": {
        "id": "herRDV7nLsyP",
        "colab": {
          "base_uri": "https://localhost:8080/",
          "height": 279
        },
        "outputId": "03700af0-9f3f-4f7d-8435-e3d8a5947f6e"
      },
      "source": [
        "fig, ax = plt.subplots()\n",
        "bin_vals, _, _ = ax.hist([np.random.normal(3.7e4, 5e3, int(10e4))], 100)\n",
        "ax.axvline(3.7e4, label='mean', color='orange')\n",
        "ax.set_xlabel('Income')\n",
        "ax.set_ylabel('Number of people')\n",
        "ax.legend();"
      ],
      "execution_count": 5,
      "outputs": [
        {
          "output_type": "display_data",
          "data": {
            "image/png": "[encoded data removed]",
            "text/plain": [
              "<Figure size 432x288 with 1 Axes>"
            ]
          },
          "metadata": {
            "tags": [],
            "needs_background": "light"
          }
        }
      ]
    },
    {
      "cell_type": "markdown",
      "metadata": {
        "id": "rceYql3-LsyP"
      },
      "source": [
        "**2. Explain how we should read this plot in your own words. Discuss specifically why the edge of the plot is not smooth. Hint: it's called a histogram.**\n",
        "\n",
        "In a histogram, we count the number of datapoints that fall within a certain range. The range is indicated by the left and right boundaries of each column on the x-axis (here: income), and the number of datapoints that fall within that range is shown on the y-axis (here: number of people). The plot is not smooth because there is no smooth transition between one range and another --either a point falls into a range or it does not.\n",
        "\n",
        "**3. Why did we choose to draw the mean as a line, and not as a dot?**\n",
        "A line makes more sense because it can only mark a location on the x-axis, which is the mean here. A dot could be interpreted as implying that there is a datapoint indicating that there are a number of people with a certain income. \n",
        "\n",
        "**4. How realistic is it that this plot reflects the true situation, given the type of data we are looking at?**\n",
        "\n",
        "Not realistic. In real life, income is usually not distributed around one point with a tail on either side. For true data, we expect a variety of incomes with a higher number of peaks that might correlate with level of education or other correlating variables."
      ]
    },
    {
      "cell_type": "markdown",
      "metadata": {
        "id": "pDpCUY8LLsyP"
      },
      "source": [
        "Let's take a look at the *real* histogram now."
      ]
    },
    {
      "cell_type": "code",
      "metadata": {
        "colab": {
          "base_uri": "https://localhost:8080/",
          "height": 295
        },
        "id": "0DvV9Mp_LsyP",
        "outputId": "85b50933-2e97-41be-b44d-6a19c220f431"
      },
      "source": [
        "fig, ax = plt.subplots()\n",
        "ax.set_title('Histogram')\n",
        "ax.hist(income_samples, bins=50)\n",
        "ax.axvline(income_samples_mean, color='orange', label='mean')\n",
        "ax.set_xlabel('Income')\n",
        "ax.set_ylabel('Number of people')\n",
        "ax.set_xlim([0, 1e5])\n",
        "ax.legend();"
      ],
      "execution_count": 6,
      "outputs": [
        {
          "output_type": "display_data",
          "data": {
            "image/png": "[encoded data removed]",
            "text/plain": [
              "<Figure size 432x288 with 1 Axes>"
            ]
          },
          "metadata": {
            "tags": [],
            "needs_background": "light"
          }
        }
      ]
    },
    {
      "cell_type": "markdown",
      "metadata": {
        "id": "xQuFQfX0LsyQ"
      },
      "source": [
        "**5. Why is the mean not located at a peak in the histogram?**\n",
        "\n",
        "The mean is not required or even expected to be at a peak. It can be pulled in any direction depending on how the values are distributed. \n",
        "\n",
        "**6. How can the two plots look so different, even though their mean is the same?**\n",
        "\n",
        "In the first plot the mean is the center around which all the other values are neatly distributed. In the second plot there are a lot of people with an income below the mean, but the income of the people who earn more is so high that the mean income is pulled in their direction.\n",
        "\n",
        "**7. How much useful information does the mean give about the data here, in your opinion? Explain why.**\n",
        "\n",
        "It does not give us a lot of useful information. It is clear that the mean can be pulled in any direction if the minority's values are high or low enough. For variables like income, we need more information about the actual distribution than just the mean."
      ]
    },
    {
      "cell_type": "markdown",
      "metadata": {
        "id": "en6NUYB1LsyQ"
      },
      "source": [
        "## Median\n"
      ]
    },
    {
      "cell_type": "markdown",
      "metadata": {
        "id": "hjtemyTdLsyQ"
      },
      "source": [
        "An alternative measure that may be more useful is the **median**. The median is the middle value in a sorted list of all the data. Here's how to find the median:\n",
        "\n",
        "1. Sort the data.\n",
        "2. Find the middle number. If there are an even number of datapoints, take the mean of the middle two."
      ]
    },
    {
      "cell_type": "code",
      "metadata": {
        "colab": {
          "base_uri": "https://localhost:8080/"
        },
        "id": "Jn9nHUWJLsyQ",
        "outputId": "e6e12fc0-deec-49f9-c553-7a3044b93d6b"
      },
      "source": [
        "income_samples_median = np.median(income_samples)\n",
        "print(f'The median income in Fooville is {income_samples_median:.2f}')"
      ],
      "execution_count": 7,
      "outputs": [
        {
          "output_type": "stream",
          "text": [
            "The median income in Fooville is 27816.79\n"
          ],
          "name": "stdout"
        }
      ]
    },
    {
      "cell_type": "markdown",
      "metadata": {
        "id": "altxa-_iLsyR"
      },
      "source": [
        "Let's visualize where it is exactly on our histogram."
      ]
    },
    {
      "cell_type": "code",
      "metadata": {
        "colab": {
          "base_uri": "https://localhost:8080/",
          "height": 295
        },
        "id": "0H29rc5xLsyR",
        "outputId": "52222700-b07f-4f41-feb6-310739770aaa"
      },
      "source": [
        "fig, ax = plt.subplots()\n",
        "ax.set_title('Histogram')\n",
        "ax.hist(income_samples, bins=50)\n",
        "ax.axvline(income_samples_mean, color='orange', label='mean')\n",
        "ax.axvline(income_samples_median, color='green', label='median')\n",
        "ax.set_xlabel('Income')\n",
        "ax.set_ylabel('Number of people')\n",
        "ax.set_xlim([0, 1e5])\n",
        "ax.legend();"
      ],
      "execution_count": 8,
      "outputs": [
        {
          "output_type": "display_data",
          "data": {
            "image/png": "[encoded data removed]",
            "text/plain": [
              "<Figure size 432x288 with 1 Axes>"
            ]
          },
          "metadata": {
            "tags": [],
            "needs_background": "light"
          }
        }
      ]
    },
    {
      "cell_type": "markdown",
      "metadata": {
        "id": "JDGqt145LsyR"
      },
      "source": [
        "**8. Is the median more informative about this dataset, in your opinion? Why? Consider the type of data that you're looking at.**\n",
        "\n",
        "Yes, it is more informative. The median is much less sensitive to small groups of datapoints pulling it in a certain direction. That also goes for our dataset here. Based on the median, we know for sure that half of the population has an income below it and half has an income above it. Such conclusions could not be drawn from the mean. \n",
        "\n",
        "**9. How many people in Fooville have an income below the median? How many have an income above the median?**\n",
        "\n",
        "50% of the people in Fooville have an income below the median, and 50% has an income above it. For 100,000 people, this means there are 50,000 people below and 50,000 above. \n",
        "\n",
        "**10. Which way does the median move if we mirror the data like we did in the bottom plot below? Which way does the mean move? Finally: which one moves more? Explain your answers.**\n",
        "\n",
        "Both the median and the mean move to the right. This is because everyone now earns more on average (the mean) and relatively speaking, more people are on the top end of the spectrum now (the median).\n",
        "\n",
        "The median moves more, because the large number of people that used to be on the low end of the income spectrum now sit at the top in an exactly mirrored way. That means the line that marks the 50% boundary must also be mirrored. The same reasoning applies to the weight that each earnings group holds over the mean, so the mean must also be mirrored. The 'mirror' sits in the middle, and since the mean was closer to the mirror than the median to begin with, the mean will move less and the median will move more.\n",
        "\n"
      ]
    },
    {
      "cell_type": "code",
      "metadata": {
        "id": "T9xBeQybLsyR",
        "colab": {
          "base_uri": "https://localhost:8080/",
          "height": 567
        },
        "outputId": "4ef07ab6-018f-4301-c6d7-f2e28ff0c06e"
      },
      "source": [
        "mirrored_income_samples = 0 - income_samples + 1e5\n",
        "\n",
        "fig, axs = plt.subplots(2, 1, figsize=(16,9))\n",
        "axs[0].set_title('Real histogram', loc='left')\n",
        "axs[0].hist(income_samples, bins=50)\n",
        "axs[0].axvline(income_samples_mean, color='orange', label='mean')\n",
        "axs[0].axvline(income_samples_median, color='green', label='median')\n",
        "axs[0].set_xlabel('Income')\n",
        "axs[0].set_ylabel('Number of people')\n",
        "axs[0].set_xlim([0, 1e5])\n",
        "axs[0].legend();\n",
        "axs[1].set_title('Mirrored histogram', loc='left')\n",
        "axs[1].hist(mirrored_income_samples, bins=50)\n",
        "axs[1].set_xlabel('Income')\n",
        "axs[1].set_ylabel('Number of people')\n",
        "axs[1].set_xlim([0, 1e5]);"
      ],
      "execution_count": 9,
      "outputs": [
        {
          "output_type": "display_data",
          "data": {
            "image/png": "[encoded data removed]",
            "text/plain": [
              "<Figure size 1152x648 with 2 Axes>"
            ]
          },
          "metadata": {
            "tags": [],
            "needs_background": "light"
          }
        }
      ]
    },
    {
      "cell_type": "markdown",
      "metadata": {
        "id": "VfU0_6lLLsyT"
      },
      "source": [
        "## Mode and binning\n",
        "\n",
        "A third number that gives some information about data is distributed is the **mode**. This is the value that occurs most frequently out of all the values.\n",
        "\n",
        "Let's count how often each number occurs in our (non-mirrored) dataset and see which one occurs most often."
      ]
    },
    {
      "cell_type": "code",
      "metadata": {
        "id": "ua3Q2OEmLsyT",
        "colab": {
          "base_uri": "https://localhost:8080/",
          "height": 329
        },
        "outputId": "6a658820-f0b9-473a-bc1e-2331d10a7131"
      },
      "source": [
        "unique, frequency = np.unique(income_samples, return_counts = True)\n",
        "income_samples_mode_freq = np.max(frequency)\n",
        "income_samples_mode = unique[np.argmax(frequency)]\n",
        "print(f'The mode of the income data from Fooville is {income_samples_mode:.2f}.\\n'\n",
        "      f'It occurs {income_samples_mode_freq} times.')\n",
        "\n",
        "fig, ax = plt.subplots()\n",
        "ax.set_title('Histogram')\n",
        "ax.hist(income_samples, bins=50)\n",
        "ax.axvline(income_samples_mean, color='orange', label='mean')\n",
        "ax.axvline(income_samples_median, color='green', label='median')\n",
        "ax.axvline(income_samples_mode, color='purple', label='mode?')\n",
        "ax.set_xlabel('Income')\n",
        "ax.set_ylabel('Number of people')\n",
        "ax.set_xlim([0, 1e5])\n",
        "ax.legend();"
      ],
      "execution_count": 10,
      "outputs": [
        {
          "output_type": "stream",
          "text": [
            "The mode of the income data from Fooville is 20450.46.\n",
            "It occurs 3 times.\n"
          ],
          "name": "stdout"
        },
        {
          "output_type": "display_data",
          "data": {
            "image/png": "[encoded data removed]",
            "text/plain": [
              "<Figure size 432x288 with 1 Axes>"
            ]
          },
          "metadata": {
            "tags": [],
            "needs_background": "light"
          }
        }
      ]
    },
    {
      "cell_type": "markdown",
      "metadata": {
        "id": "K0xB2E4wLsyT"
      },
      "source": [
        "Hm! This does not match with what we learn from our histogram.\n",
        "\n",
        "**11. What level of income would you have expected to be the mode?**\n",
        "\n",
        "The income with the highest peak, so around ~25000\n",
        "\n",
        "**12. What is the problem that caused us to land on a strange value for the mode?**\n",
        "\n",
        "The income scale is continuous. This means it is very unlikely that two people earn the exact same amount. So, if we check which value occurs the most frequently, even a value that occurs twice would probably be a winner.\n",
        "The problem that we have can be solved by *binning* the numbers in our data. Here's how that works:\n",
        "\n",
        "1. Choose a number of *bins*. Think of these like buckets.\n",
        "2. Divide the area between the minimum and maximum values of the data into smaller areas according to the number of bins.\n",
        "3. Look at each datapoint and put it in the bin that it belongs to.\n",
        "4. Count how many datapoints are in each bin.\n",
        "5. Let each bin be represented by the middle value of the bin.\n",
        "\n",
        "Let's do this and find the mode again."
      ]
    },
    {
      "cell_type": "code",
      "metadata": {
        "id": "-xpVJnRhLsyU",
        "colab": {
          "base_uri": "https://localhost:8080/",
          "height": 329
        },
        "outputId": "a6e6259f-c0ae-4626-effd-c1d0d897d0b5"
      },
      "source": [
        "# PLAY AROUND WITH THIS VALUE\n",
        "bins = 100\n",
        "# DON'T MODIFY THE LINES BELOW\n",
        "\n",
        "hist, bin_edges = np.histogram(income_samples, bins=bins)\n",
        "income_samples_mode_freq = np.max(hist)\n",
        "mode_bin_index = np.argmax(hist)\n",
        "income_samples_mode = np.mean(bin_edges[mode_bin_index:mode_bin_index+2])\n",
        "print(f'The mode of the income data from Fooville is {income_samples_mode:.2f}.\\n'\n",
        "      f'It occurs {income_samples_mode_freq} times.')\n",
        "fig, ax = plt.subplots()\n",
        "ax.set_title('Histogram')\n",
        "ax.hist(income_samples, bins=bins)\n",
        "ax.axvline(income_samples_mean, color='orange', label='mean')\n",
        "ax.axvline(income_samples_median, color='green', label='median')\n",
        "ax.axvline(income_samples_mode, color='purple', label='mode')\n",
        "ax.set_xlabel('Income')\n",
        "ax.set_ylabel('Number of people')\n",
        "ax.set_xlim([0, 1e5])\n",
        "ax.legend();"
      ],
      "execution_count": 19,
      "outputs": [
        {
          "output_type": "stream",
          "text": [
            "The mode of the income data from Fooville is 25508.70.\n",
            "It occurs 5248 times.\n"
          ],
          "name": "stdout"
        },
        {
          "output_type": "display_data",
          "data": {
            "image/png": "[encoded data removed]",
            "text/plain": [
              "<Figure size 432x288 with 1 Axes>"
            ]
          },
          "metadata": {
            "tags": [],
            "needs_background": "light"
          }
        }
      ]
    },
    {
      "cell_type": "markdown",
      "metadata": {
        "id": "ABD6OjDWLsyU"
      },
      "source": [
        "**13. How did binning solve the problem you described in your answer to question 12?**\n",
        "\n",
        "Instead of counting the number of times each unique value occurs (which is highly likely to be one time only), we count how many values occur within a certain range. This sidesteps the problem we saw in question 12.\n",
        "\n",
        "**14. Would a bin count of 3 suffice? What about 100? What is the consideration in choosing a higher or lower bin count? And what is the downside of going too far in either direction?**\n",
        "\n",
        "Using 3 bins is not enough to capture the granularity in the data. It would mean using only 3 ranges to group all the data, causing a major loss of resolution. This is the downside of choosing a low number of bins.\n",
        "\n",
        "A higher bin number takes longer to process, simply due to the nature of checks that have to be performed to fill each bin with the datapoints that belong in it. A higher bin count also eventually defeats the purpose of binning at all, since we might have so many bins that each value is assigned to its own bin.\n",
        "\n",
        "For this dataset, a bincount between 20 and 100 seems reasonable."
      ]
    },
    {
      "cell_type": "markdown",
      "metadata": {
        "id": "nirp9bZ2LsyV"
      },
      "source": [
        "## Quartiles and Boxplots\n",
        "\n",
        "Finally, we will describe our data with a few extra measures:\n",
        "\n",
        "- The min; the lowest value in the dataset.\n",
        "- The max; the highest value in the dataset.\n",
        "- The first quartile; the median of the lower half of the dataset. You find this value by sorting the data and selecting the middle of the lower half.\n",
        "- The third quartile; the median of the upper half of the dataset. You find this value by sorting the data and selecting the middle of the upper half.\n",
        "\n",
        "Together with the median, this is called the *five-number summary*. It is common to visualize these numbers in a type of plot that's called a *boxplot*. Here it is for the Fooville data."
      ]
    },
    {
      "cell_type": "code",
      "metadata": {
        "id": "Zrz8TC1oLsyV",
        "colab": {
          "base_uri": "https://localhost:8080/",
          "height": 321
        },
        "outputId": "0d0b7055-ca77-45c2-df86-c5bcf6f81107"
      },
      "source": [
        "fig, ax = plt.subplots()\n",
        "ax.boxplot(income_samples, whis=(0,100))\n",
        "sorted_income_samples = np.sort(income_samples)\n",
        "minimum = np.min(income_samples)\n",
        "maximum = np.max(income_samples)\n",
        "first_quartile = sorted_income_samples[int(sorted_income_samples.shape[0] / 4)]\n",
        "third_quartile = sorted_income_samples[int(3 * sorted_income_samples.shape[0] / 4)]\n",
        "ax.annotate('min', (1, minimum), fontsize='x-large', xytext=(35, 0), textcoords='offset points', arrowprops={'arrowstyle':'fancy'})\n",
        "ax.annotate('max', (1, maximum), fontsize='x-large', xytext=(35, -10), textcoords='offset points', arrowprops={'arrowstyle':'fancy'})\n",
        "ax.annotate('median', (1, income_samples_median), fontsize='x-large', xytext=(35, 0), textcoords='offset points', arrowprops={'arrowstyle':'fancy'})\n",
        "ax.annotate('first quartile', (1, first_quartile), fontsize='x-large', xytext=(35, -10), textcoords='offset points', arrowprops={'arrowstyle':'fancy'})\n",
        "ax.annotate('third quartile', (1, third_quartile), fontsize='x-large', xytext=(35, 0), textcoords='offset points', arrowprops={'arrowstyle':'fancy'})\n",
        "ax.set_ylabel('Income')\n",
        "ax.set_xticks([])\n",
        "\n",
        "print(f'The minimum is at {minimum}')\n",
        "print(f'The first quartile is at {first_quartile}')\n",
        "print(f'The third quartile is at {third_quartile}')\n",
        "print(f'The maximum is at {maximum}')"
      ],
      "execution_count": 12,
      "outputs": [
        {
          "output_type": "stream",
          "text": [
            "The minimum is at 2368.82\n",
            "The first quartile is at 23152.06\n",
            "The third quartile is at 52240.31\n",
            "The maximum is at 96817.32\n"
          ],
          "name": "stdout"
        },
        {
          "output_type": "display_data",
          "data": {
            "image/png": "[encoded data removed]",
            "text/plain": [
              "<Figure size 432x288 with 1 Axes>"
            ]
          },
          "metadata": {
            "tags": [],
            "needs_background": "light"
          }
        }
      ]
    },
    {
      "cell_type": "markdown",
      "metadata": {
        "id": "R0Aj-AEbLsyV"
      },
      "source": [
        "Here is the boxplot again without our annotations."
      ]
    },
    {
      "cell_type": "code",
      "metadata": {
        "id": "ek5y44inLsyW",
        "colab": {
          "base_uri": "https://localhost:8080/",
          "height": 253
        },
        "outputId": "8fd1090c-360a-4a51-df7c-fd27dfda4eef"
      },
      "source": [
        "fig, ax = plt.subplots()\n",
        "ax.boxplot(income_samples, whis=(0,100))\n",
        "ax.set_ylabel('Income')\n",
        "ax.set_xticks([]);"
      ],
      "execution_count": 13,
      "outputs": [
        {
          "output_type": "display_data",
          "data": {
            "image/png": "[encoded data removed]",
            "text/plain": [
              "<Figure size 432x288 with 1 Axes>"
            ]
          },
          "metadata": {
            "tags": [],
            "needs_background": "light"
          }
        }
      ]
    },
    {
      "cell_type": "markdown",
      "metadata": {
        "id": "MKHnNXvHLsyW"
      },
      "source": [
        "**15. How many inhabitants of Fooville have an income above the first quartile?**\n",
        "\n",
        "75%, meaning 75,000 inhabitants.\n",
        "\n",
        "\n",
        "**16. How many inhabitants of Fooville have an income between the first and third quartile?**\n",
        "\n",
        "100 - 25 - 25 = 50%, meaning 50,000 inhabitants\n",
        "\n",
        "**17. Which of the following statements are correct? (type an `x` in those boxes)**\n",
        "\n",
        "*TODO: Fill in the right boxes.*\n",
        "\n",
        "   - [ ] \"25% of all Fooville inhabitants have an income above 20.000\"\n",
        "   - [X] \"50% of all Fooville inhabitants have an income between around 23.000 and around 52.000\"\n",
        "   - [X] \"There are no Fooville inhabitants with an income above 98.000.\"\n",
        "\n",
        "**18. Does the mean always fall between the first and third quartile? Explain your answer.**\n",
        "\n",
        "No. Quartiles are resistant to changes in the data, whereas the mean is sensitive to changes in even any one data value. This means that extreme outlier cases in the data can couse the mean to fall outside the first and third quartile.\n",
        "The top 25% may have values so far above the third quartile that the mean is pulled all the way above the 75% mark. Similarly, the lowest 25% may have such low values that the mean is pulled below the 25% mark.\n",
        "\n",
        "**19. Do you think a boxplot is a nice summary of the Fooville income data? Why? How does it compare to the histogram?**\n",
        "\n",
        "Yes, it gives a good overview over how the income level is distributed over all the inhabitants by showing the min, max, quartiles and the median. A histogram may be better for getting a quick, intuitive understanding of where the peaks are, but it is not possible to draw conclusions like \"50% of all Fooville inhabitants have an income between around 23k and 52k\" from it, which is possible with the boxplot."
      ]
    },
    {
      "cell_type": "markdown",
      "metadata": {
        "id": "BQNyhzEtLsyW"
      },
      "source": [
        "That's it for this lesson! You now have an intuitive understanding of:\n",
        "\n",
        "- The mean\n",
        "- The median\n",
        "- The mode\n",
        "- Binning\n",
        "- Histograms\n",
        "- The minimum and maximum\n",
        "- The first and third quartile\n",
        "- Boxplots\n",
        "\n",
        "Congratulations! That's a lot of material to work through."
      ]
    }
  ]
}